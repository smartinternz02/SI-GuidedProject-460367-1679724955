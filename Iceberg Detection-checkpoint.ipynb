{
 "cells": [
  {
   "cell_type": "code",
   "execution_count": 1,
   "id": "541e5228",
   "metadata": {},
   "outputs": [],
   "source": [
    "from keras.preprocessing.image import ImageDataGenerator\n",
    "train_datagen = ImageDataGenerator(rescale = 1./255,\n",
    "                                   shear_range = 0.2,\n",
    "                                   zoom_range = 0.2,\n",
    "                                   horizontal_flip = True)\n",
    "\n",
    "test_datagen = ImageDataGenerator (rescale = 1./255)"
   ]
  },
  {
   "cell_type": "code",
   "execution_count": 2,
   "id": "1594e3d1",
   "metadata": {},
   "outputs": [
    {
     "name": "stdout",
     "output_type": "stream",
     "text": [
      "Found 1284 images belonging to 2 classes.\n",
      "Found 320 images belonging to 2 classes.\n"
     ]
    }
   ],
   "source": [
    "x_train = train_datagen.flow_from_directory(r'C:/dataset/train-20230331T133012Z-001/train',\n",
    "                                          target_size = (75, 75),\n",
    "                                          batch_size = 32,\n",
    "                                              class_mode='binary')\n",
    "x_test = test_datagen.flow_from_directory(r'C:/dataset/test-20230331T132940Z-001/test',\n",
    "                                          target_size = (75, 75),\n",
    "                                          batch_size = 32,\n",
    "                                          class_mode= 'binary')"
   ]
  },
  {
   "cell_type": "code",
   "execution_count": 3,
   "id": "fbc29691",
   "metadata": {},
   "outputs": [],
   "source": [
    "from keras.preprocessing.image import ImageDataGenerator\n",
    "from keras.models import Sequential\n",
    "from keras.layers import Conv2D, MaxPooling2D, Dense, Dropout, Flatten\n",
    "from keras.layers import MaxPooling2D"
   ]
  },
  {
   "cell_type": "code",
   "execution_count": 4,
   "id": "aad92663",
   "metadata": {},
   "outputs": [],
   "source": [
    "model=Sequential()"
   ]
  },
  {
   "cell_type": "code",
   "execution_count": 5,
   "id": "0b1c86b0",
   "metadata": {},
   "outputs": [],
   "source": [
    "model.add(Conv2D(64,(3, 3),activation='relu', input_shape=(75, 75, 3)))"
   ]
  },
  {
   "cell_type": "code",
   "execution_count": 6,
   "id": "941a88d9",
   "metadata": {},
   "outputs": [],
   "source": [
    "model.add(MaxPooling2D(pool_size=(3, 3), strides=(2, 2)))"
   ]
  },
  {
   "cell_type": "code",
   "execution_count": 7,
   "id": "defd1732",
   "metadata": {},
   "outputs": [],
   "source": [
    "model.add(Flatten())"
   ]
  },
  {
   "cell_type": "code",
   "execution_count": 8,
   "id": "9bb4f6f2",
   "metadata": {},
   "outputs": [],
   "source": [
    "model.add(Dense(activation=\"relu\",units=512))"
   ]
  },
  {
   "cell_type": "code",
   "execution_count": 9,
   "id": "1845c6ab",
   "metadata": {},
   "outputs": [],
   "source": [
    "model.add(Dense(activation=\"relu\",units=256))"
   ]
  },
  {
   "cell_type": "code",
   "execution_count": 10,
   "id": "6811aada",
   "metadata": {},
   "outputs": [],
   "source": [
    "model.add(Dense(activation=\"softmax\",units=1))"
   ]
  },
  {
   "cell_type": "code",
   "execution_count": 11,
   "id": "5a451ea3",
   "metadata": {},
   "outputs": [],
   "source": [
    "model.compile(loss=\"categorical_crossentropy\",optimizer=\"adam\",metrics=[\"accuracy\"])"
   ]
  },
  {
   "cell_type": "code",
   "execution_count": 12,
   "id": "29e2945d",
   "metadata": {},
   "outputs": [
    {
     "name": "stdout",
     "output_type": "stream",
     "text": [
      "Epoch 1/10\n"
     ]
    },
    {
     "name": "stderr",
     "output_type": "stream",
     "text": [
      "C:\\Users\\91918\\anaconda3\\lib\\site-packages\\tensorflow\\python\\util\\dispatch.py:1176: SyntaxWarning: In loss categorical_crossentropy, expected y_pred.shape to be (batch_size, num_classes) with num_classes > 1. Received: y_pred.shape=(None, 1). Consider using 'binary_crossentropy' if you only have 2 classes.\n",
      "  return dispatch_target(*args, **kwargs)\n"
     ]
    },
    {
     "name": "stdout",
     "output_type": "stream",
     "text": [
      " 41/250 [===>..........................] - ETA: 2:57 - loss: 0.0000e+00 - accuracy: 0.5382WARNING:tensorflow:Your input ran out of data; interrupting training. Make sure that your dataset or generator can generate at least `steps_per_epoch * epochs` batches (in this case, 2500 batches). You may need to use the repeat() function when building your dataset.\n",
      "WARNING:tensorflow:Your input ran out of data; interrupting training. Make sure that your dataset or generator can generate at least `steps_per_epoch * epochs` batches (in this case, 63 batches). You may need to use the repeat() function when building your dataset.\n",
      "250/250 [==============================] - 42s 154ms/step - loss: 0.0000e+00 - accuracy: 0.5382 - val_loss: 0.0000e+00 - val_accuracy: 0.5000\n"
     ]
    },
    {
     "data": {
      "text/plain": [
       "<keras.callbacks.History at 0x1d730a7d400>"
      ]
     },
     "execution_count": 12,
     "metadata": {},
     "output_type": "execute_result"
    }
   ],
   "source": [
    "model.fit(x_train,\n",
    "                    steps_per_epoch = 250,\n",
    "                    epochs = 10,\n",
    "                    validation_data = x_test,\n",
    "                    validation_steps = 63)"
   ]
  },
  {
   "cell_type": "code",
   "execution_count": 13,
   "id": "90eacea4",
   "metadata": {},
   "outputs": [],
   "source": [
    "model.save(\"iceberg.h5\")"
   ]
  },
  {
   "cell_type": "code",
   "execution_count": 14,
   "id": "d5af9587",
   "metadata": {},
   "outputs": [],
   "source": [
    "from keras.models import load_model\n",
    "import numpy as np\n",
    "import cv2\n",
    "from keras.models import load_model"
   ]
  },
  {
   "cell_type": "code",
   "execution_count": 15,
   "id": "3006db19",
   "metadata": {},
   "outputs": [],
   "source": [
    "model = load_model('iceberg.h5')"
   ]
  },
  {
   "cell_type": "code",
   "execution_count": 25,
   "id": "5dc9cf7c",
   "metadata": {},
   "outputs": [],
   "source": [
    "classes=['iceberg','ship']"
   ]
  },
  {
   "cell_type": "code",
   "execution_count": 31,
   "id": "7e87991f",
   "metadata": {},
   "outputs": [],
   "source": [
    "from skimage.transform import resize\n",
    "\n",
    "def detect(frame):\n",
    "    img = resize(frame,(75,75))\n",
    "    img = np.expand_dims(img,axis=0)\n",
    "    if(np.max(img)>1):\n",
    "        img = img/255.0\n",
    "    prediction = model.predict(img)\n",
    "    print(prediction)\n",
    "    p=(model.predict(img)>0.5).astype(\"int32\")\n",
    "    print(p)\n",
    "    output=classes[p[0][0]]\n",
    "    print(output)"
   ]
  },
  {
   "cell_type": "code",
   "execution_count": 32,
   "id": "5daf1f9a",
   "metadata": {},
   "outputs": [
    {
     "name": "stdout",
     "output_type": "stream",
     "text": [
      "1/1 [==============================] - 0s 85ms/step\n",
      "[[1.]]\n",
      "1/1 [==============================] - 0s 92ms/step\n",
      "[[1]]\n",
      "ship\n"
     ]
    }
   ],
   "source": [
    "frame=cv2.imread(r\"C:\\dataset\\test-20230331T132940Z-001\\test\\Iceberg\\f178.png\")\n",
    "data = detect(frame)"
   ]
  },
  {
   "cell_type": "code",
   "execution_count": null,
   "id": "6ff25feb",
   "metadata": {},
   "outputs": [],
   "source": []
  },
  {
   "cell_type": "code",
   "execution_count": null,
   "id": "bada3ffd",
   "metadata": {},
   "outputs": [],
   "source": []
  }
 ],
 "metadata": {
  "kernelspec": {
   "display_name": "Python 3 (ipykernel)",
   "language": "python",
   "name": "python3"
  },
  "language_info": {
   "codemirror_mode": {
    "name": "ipython",
    "version": 3
   },
   "file_extension": ".py",
   "mimetype": "text/x-python",
   "name": "python",
   "nbconvert_exporter": "python",
   "pygments_lexer": "ipython3",
   "version": "3.9.12"
  }
 },
 "nbformat": 4,
 "nbformat_minor": 5
}
